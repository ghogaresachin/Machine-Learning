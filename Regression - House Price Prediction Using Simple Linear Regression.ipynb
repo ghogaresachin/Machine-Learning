{
 "cells": [
  {
   "cell_type": "markdown",
   "id": "4a0015f9",
   "metadata": {},
   "source": [
    "## Import Libraries"
   ]
  },
  {
   "cell_type": "code",
   "execution_count": 2,
   "id": "2f894437",
   "metadata": {},
   "outputs": [],
   "source": [
    "import pandas as pd\n",
    "import numpy as np"
   ]
  },
  {
   "cell_type": "markdown",
   "id": "417599e3",
   "metadata": {},
   "source": [
    "## Import data"
   ]
  },
  {
   "cell_type": "code",
   "execution_count": 3,
   "id": "13743f5d",
   "metadata": {},
   "outputs": [],
   "source": [
    "df=pd.read_csv('C:\\python\\Machine learning\\Datasets\\House dataset.csv')"
   ]
  },
  {
   "cell_type": "code",
   "execution_count": 4,
   "id": "7b0a40ac",
   "metadata": {},
   "outputs": [
    {
     "data": {
      "text/html": [
       "<div>\n",
       "<style scoped>\n",
       "    .dataframe tbody tr th:only-of-type {\n",
       "        vertical-align: middle;\n",
       "    }\n",
       "\n",
       "    .dataframe tbody tr th {\n",
       "        vertical-align: top;\n",
       "    }\n",
       "\n",
       "    .dataframe thead th {\n",
       "        text-align: right;\n",
       "    }\n",
       "</style>\n",
       "<table border=\"1\" class=\"dataframe\">\n",
       "  <thead>\n",
       "    <tr style=\"text-align: right;\">\n",
       "      <th></th>\n",
       "      <th>area</th>\n",
       "      <th>price</th>\n",
       "    </tr>\n",
       "  </thead>\n",
       "  <tbody>\n",
       "    <tr>\n",
       "      <th>0</th>\n",
       "      <td>8450</td>\n",
       "      <td>208500</td>\n",
       "    </tr>\n",
       "    <tr>\n",
       "      <th>1</th>\n",
       "      <td>9600</td>\n",
       "      <td>181500</td>\n",
       "    </tr>\n",
       "    <tr>\n",
       "      <th>2</th>\n",
       "      <td>11250</td>\n",
       "      <td>223500</td>\n",
       "    </tr>\n",
       "    <tr>\n",
       "      <th>3</th>\n",
       "      <td>9550</td>\n",
       "      <td>140000</td>\n",
       "    </tr>\n",
       "    <tr>\n",
       "      <th>4</th>\n",
       "      <td>14260</td>\n",
       "      <td>250000</td>\n",
       "    </tr>\n",
       "  </tbody>\n",
       "</table>\n",
       "</div>"
      ],
      "text/plain": [
       "    area   price\n",
       "0   8450  208500\n",
       "1   9600  181500\n",
       "2  11250  223500\n",
       "3   9550  140000\n",
       "4  14260  250000"
      ]
     },
     "execution_count": 4,
     "metadata": {},
     "output_type": "execute_result"
    }
   ],
   "source": [
    "df.head()"
   ]
  },
  {
   "cell_type": "code",
   "execution_count": 5,
   "id": "a0c7aa24",
   "metadata": {},
   "outputs": [
    {
     "data": {
      "text/plain": [
       "<bound method DataFrame.info of        area   price\n",
       "0      8450  208500\n",
       "1      9600  181500\n",
       "2     11250  223500\n",
       "3      9550  140000\n",
       "4     14260  250000\n",
       "...     ...     ...\n",
       "1455   7917  175000\n",
       "1456  13175  210000\n",
       "1457   9042  266500\n",
       "1458   9717  142125\n",
       "1459   9937  147500\n",
       "\n",
       "[1460 rows x 2 columns]>"
      ]
     },
     "execution_count": 5,
     "metadata": {},
     "output_type": "execute_result"
    }
   ],
   "source": [
    "df.info"
   ]
  },
  {
   "cell_type": "code",
   "execution_count": 6,
   "id": "c6f286e1",
   "metadata": {},
   "outputs": [
    {
     "data": {
      "text/plain": [
       "area     0\n",
       "price    0\n",
       "dtype: int64"
      ]
     },
     "execution_count": 6,
     "metadata": {},
     "output_type": "execute_result"
    }
   ],
   "source": [
    "df.isnull().sum()"
   ]
  },
  {
   "cell_type": "code",
   "execution_count": 7,
   "id": "6df897cd",
   "metadata": {},
   "outputs": [
    {
     "data": {
      "text/plain": [
       "(1460, 2)"
      ]
     },
     "execution_count": 7,
     "metadata": {},
     "output_type": "execute_result"
    }
   ],
   "source": [
    "df.shape"
   ]
  },
  {
   "cell_type": "markdown",
   "id": "4bb9036a",
   "metadata": {},
   "source": [
    "## Let's divide the data into dependent and independent variable"
   ]
  },
  {
   "cell_type": "code",
   "execution_count": 8,
   "id": "06331ddb",
   "metadata": {},
   "outputs": [],
   "source": [
    "X=df.iloc[:,:-1]"
   ]
  },
  {
   "cell_type": "code",
   "execution_count": 9,
   "id": "eada4682",
   "metadata": {},
   "outputs": [
    {
     "data": {
      "text/html": [
       "<div>\n",
       "<style scoped>\n",
       "    .dataframe tbody tr th:only-of-type {\n",
       "        vertical-align: middle;\n",
       "    }\n",
       "\n",
       "    .dataframe tbody tr th {\n",
       "        vertical-align: top;\n",
       "    }\n",
       "\n",
       "    .dataframe thead th {\n",
       "        text-align: right;\n",
       "    }\n",
       "</style>\n",
       "<table border=\"1\" class=\"dataframe\">\n",
       "  <thead>\n",
       "    <tr style=\"text-align: right;\">\n",
       "      <th></th>\n",
       "      <th>area</th>\n",
       "    </tr>\n",
       "  </thead>\n",
       "  <tbody>\n",
       "    <tr>\n",
       "      <th>0</th>\n",
       "      <td>8450</td>\n",
       "    </tr>\n",
       "    <tr>\n",
       "      <th>1</th>\n",
       "      <td>9600</td>\n",
       "    </tr>\n",
       "    <tr>\n",
       "      <th>2</th>\n",
       "      <td>11250</td>\n",
       "    </tr>\n",
       "    <tr>\n",
       "      <th>3</th>\n",
       "      <td>9550</td>\n",
       "    </tr>\n",
       "    <tr>\n",
       "      <th>4</th>\n",
       "      <td>14260</td>\n",
       "    </tr>\n",
       "    <tr>\n",
       "      <th>...</th>\n",
       "      <td>...</td>\n",
       "    </tr>\n",
       "    <tr>\n",
       "      <th>1455</th>\n",
       "      <td>7917</td>\n",
       "    </tr>\n",
       "    <tr>\n",
       "      <th>1456</th>\n",
       "      <td>13175</td>\n",
       "    </tr>\n",
       "    <tr>\n",
       "      <th>1457</th>\n",
       "      <td>9042</td>\n",
       "    </tr>\n",
       "    <tr>\n",
       "      <th>1458</th>\n",
       "      <td>9717</td>\n",
       "    </tr>\n",
       "    <tr>\n",
       "      <th>1459</th>\n",
       "      <td>9937</td>\n",
       "    </tr>\n",
       "  </tbody>\n",
       "</table>\n",
       "<p>1460 rows × 1 columns</p>\n",
       "</div>"
      ],
      "text/plain": [
       "       area\n",
       "0      8450\n",
       "1      9600\n",
       "2     11250\n",
       "3      9550\n",
       "4     14260\n",
       "...     ...\n",
       "1455   7917\n",
       "1456  13175\n",
       "1457   9042\n",
       "1458   9717\n",
       "1459   9937\n",
       "\n",
       "[1460 rows x 1 columns]"
      ]
     },
     "execution_count": 9,
     "metadata": {},
     "output_type": "execute_result"
    }
   ],
   "source": [
    "X"
   ]
  },
  {
   "cell_type": "code",
   "execution_count": 10,
   "id": "a789754e",
   "metadata": {},
   "outputs": [],
   "source": [
    "Y=df.iloc[:,1]"
   ]
  },
  {
   "cell_type": "code",
   "execution_count": 11,
   "id": "9e2d22ba",
   "metadata": {},
   "outputs": [
    {
     "data": {
      "text/plain": [
       "0       208500\n",
       "1       181500\n",
       "2       223500\n",
       "3       140000\n",
       "4       250000\n",
       "         ...  \n",
       "1455    175000\n",
       "1456    210000\n",
       "1457    266500\n",
       "1458    142125\n",
       "1459    147500\n",
       "Name: price, Length: 1460, dtype: int64"
      ]
     },
     "execution_count": 11,
     "metadata": {},
     "output_type": "execute_result"
    }
   ],
   "source": [
    "Y"
   ]
  },
  {
   "cell_type": "markdown",
   "id": "9ecf3563",
   "metadata": {},
   "source": [
    "## Plot the scatter plot"
   ]
  },
  {
   "cell_type": "code",
   "execution_count": 12,
   "id": "66c558ff",
   "metadata": {},
   "outputs": [],
   "source": [
    "import matplotlib.pyplot as plt"
   ]
  },
  {
   "cell_type": "code",
   "execution_count": 13,
   "id": "5bf6a74d",
   "metadata": {},
   "outputs": [
    {
     "data": {
      "text/plain": [
       "Text(0.5, 1.0, 'Area vs Price')"
      ]
     },
     "execution_count": 13,
     "metadata": {},
     "output_type": "execute_result"
    },
    {
     "data": {
      "image/png": "[encoded data removed]",
      "text/plain": [
       "<Figure size 432x288 with 1 Axes>"
      ]
     },
     "metadata": {
      "needs_background": "light"
     },
     "output_type": "display_data"
    }
   ],
   "source": [
    "plt.scatter(X,Y,color='r',marker='*')\n",
    "plt.xlabel('Area')\n",
    "plt.ylabel('Price')\n",
    "plt.title('Area vs Price')"
   ]
  },
  {
   "cell_type": "markdown",
   "id": "1bf384fb",
   "metadata": {},
   "source": [
    "## Split the data into Training and Testing"
   ]
  },
  {
   "cell_type": "code",
   "execution_count": 14,
   "id": "07e5fd64",
   "metadata": {},
   "outputs": [],
   "source": [
    "from sklearn.model_selection import train_test_split"
   ]
  },
  {
   "cell_type": "code",
   "execution_count": 15,
   "id": "6bc3eb19",
   "metadata": {},
   "outputs": [],
   "source": [
    "X_train,X_test,Y_train,Y_test=train_test_split(X,Y,test_size=0.25,random_state=0)"
   ]
  },
  {
   "cell_type": "markdown",
   "id": "ab5d2677",
   "metadata": {},
   "source": [
    "## Train the model"
   ]
  },
  {
   "cell_type": "code",
   "execution_count": 16,
   "id": "32c81f67",
   "metadata": {},
   "outputs": [],
   "source": [
    "from sklearn.linear_model import LinearRegression"
   ]
  },
  {
   "cell_type": "code",
   "execution_count": 17,
   "id": "a8ecbf1e",
   "metadata": {},
   "outputs": [],
   "source": [
    "model=LinearRegression()"
   ]
  },
  {
   "cell_type": "code",
   "execution_count": 18,
   "id": "7887f1a1",
   "metadata": {},
   "outputs": [
    {
     "data": {
      "text/plain": [
       "LinearRegression()"
      ]
     },
     "execution_count": 18,
     "metadata": {},
     "output_type": "execute_result"
    }
   ],
   "source": [
    "model.fit(X_train,Y_train)"
   ]
  },
  {
   "cell_type": "markdown",
   "id": "962d348a",
   "metadata": {},
   "source": [
    "## Predicted Price for Land sq.feet of custom"
   ]
  },
  {
   "cell_type": "code",
   "execution_count": 19,
   "id": "92cdfea4",
   "metadata": {},
   "outputs": [
    {
     "name": "stderr",
     "output_type": "stream",
     "text": [
      "C:\\Users\\sachi\\AppData\\Local\\Programs\\Python\\Python310\\lib\\site-packages\\sklearn\\base.py:450: UserWarning: X does not have valid feature names, but LinearRegression was fitted with feature names\n",
      "  warnings.warn(\n"
     ]
    },
    {
     "data": {
      "text/plain": [
       "array([172812.])"
      ]
     },
     "execution_count": 19,
     "metadata": {},
     "output_type": "execute_result"
    }
   ],
   "source": [
    "x=6660\n",
    "LandAreainsqft=[[x]]\n",
    "predictmodelResult=model.predict(LandAreainsqft)\n",
    "np.round(predictmodelResult)"
   ]
  },
  {
   "cell_type": "markdown",
   "id": "60302314",
   "metadata": {},
   "source": [
    "## Prediction"
   ]
  },
  {
   "cell_type": "code",
   "execution_count": 20,
   "id": "5cffe780",
   "metadata": {},
   "outputs": [],
   "source": [
    "Y_pred=model.predict(X_test)"
   ]
  },
  {
   "cell_type": "code",
   "execution_count": 21,
   "id": "2caa05c2",
   "metadata": {},
   "outputs": [
    {
     "data": {
      "text/plain": [
       "array([225715., 178568., 173534., 179616., 162682., 173910., 190297.,\n",
       "       177572., 191043., 169649., 167869., 182657., 181156., 175208.,\n",
       "       182990., 176351., 179984., 175680., 176644., 164350., 176595.,\n",
       "       168292., 176498., 175792., 177816., 195209., 163571., 163203.,\n",
       "       186290., 176514., 182606., 178216., 174602., 188271., 183357.,\n",
       "       203754., 174140., 174927., 178334., 184195., 184925., 173776.,\n",
       "       177098., 182376., 190057., 180875., 176016., 180928., 182014.,\n",
       "       181843., 187107., 180194., 178894., 174411., 185301., 176136.,\n",
       "       178792., 180547., 177197., 171469., 177165., 179915., 179628.,\n",
       "       187970., 175792., 176351., 186318., 186031., 170172., 184475.,\n",
       "       175121., 174358., 180025., 175719., 177421., 180940., 180023.,\n",
       "       177775., 198681., 178284., 173910., 173503., 173503., 178070.,\n",
       "       195939., 176453., 180440., 173080., 180460., 178515., 177063.,\n",
       "       197506., 185771., 186623., 167242., 181477., 176351., 203567.,\n",
       "       175782., 171958., 182952., 174116., 177694., 175436., 176595.,\n",
       "       191930., 187976., 177094., 180088., 173263., 167971., 175422.,\n",
       "       189375., 175131., 166862., 163959., 186668., 174520., 185708.,\n",
       "       177572., 174520., 166596., 179494., 179402., 180143., 168221.,\n",
       "       188657., 173910., 167958., 182374., 173625., 176668., 173540.,\n",
       "       184785., 178290., 179890., 179402., 176453., 171469., 173815.,\n",
       "       187742., 166740., 201981., 177165., 185505., 174897., 177419.,\n",
       "       179620., 174842., 192209., 179962., 177102., 183517., 177118.,\n",
       "       169639., 193218., 171317., 182525., 176355., 177826., 180623.,\n",
       "       183999., 175792., 179347., 183586., 176555., 185476., 180029.,\n",
       "       175940., 175666., 198515., 176351., 170210., 187358., 203506.,\n",
       "       180623., 173503., 181233., 173503., 177952., 184339., 179996.,\n",
       "       168215., 182612., 184370., 183064., 163066., 174329., 167242.,\n",
       "       168286., 175684., 182681., 179954., 177258., 174394., 175409.,\n",
       "       162269., 180586., 178074., 163170., 174643., 168766., 173300.,\n",
       "       176412., 173670., 182948., 177165., 181742., 189331., 176042.,\n",
       "       187122., 170106., 176644., 171734., 261521., 196794., 183470.,\n",
       "       180379., 181835., 163109., 187976., 186847., 170066., 178711.,\n",
       "       165393., 180877., 182034., 192811., 173489., 180419., 176644.,\n",
       "       173910., 180623., 178640., 220204., 171469., 177572., 170249.,\n",
       "       171551., 195065., 166384., 209470., 187754., 182148., 178792.,\n",
       "       166783., 171091., 176188., 178792., 177606., 188932., 181087.,\n",
       "       167523., 187095., 176839., 177775., 167157., 166659., 268097.,\n",
       "       289217., 164645., 177742., 183979., 181233., 189375., 177952.,\n",
       "       187457., 172128., 182657., 180572., 178792., 181473., 177865.,\n",
       "       193932., 170493., 179895., 183946., 185962., 184473., 181721.,\n",
       "       179199., 193309., 174520., 181497., 173019., 180989., 162682.,\n",
       "       181327., 190653., 176595., 170106., 173910., 183051., 172690.,\n",
       "       186440., 186247., 187140., 174520., 176876., 164496., 162511.,\n",
       "       171469., 173363., 174677., 174927., 182270., 183674., 192130.,\n",
       "       177608., 179498., 173910., 165367., 171713., 176361., 173910.,\n",
       "       168268., 184170., 177321., 165513., 178792., 170627., 170786.,\n",
       "       176072., 191532., 174785., 173605., 181192., 188965., 189325.,\n",
       "       175397., 179113., 178698., 177037., 181996., 183098., 184766.,\n",
       "       173442., 175029., 166136., 179443., 183361., 168418., 173910.,\n",
       "       183259., 182148., 182340., 170322., 173910., 171030., 173569.,\n",
       "       179205., 189316., 179911., 185102., 167523., 187520., 184197.,\n",
       "       173910., 168927., 482686., 186725., 183857., 177775., 181621.,\n",
       "       177118.])"
      ]
     },
     "execution_count": 21,
     "metadata": {},
     "output_type": "execute_result"
    }
   ],
   "source": [
    "np.round(Y_pred)"
   ]
  },
  {
   "cell_type": "markdown",
   "id": "2050b345",
   "metadata": {},
   "source": [
    "## Accuracy"
   ]
  },
  {
   "cell_type": "code",
   "execution_count": 22,
   "id": "f503918a",
   "metadata": {},
   "outputs": [],
   "source": [
    "from sklearn.metrics import r2_score"
   ]
  },
  {
   "cell_type": "code",
   "execution_count": 27,
   "id": "0c5dcdd7",
   "metadata": {},
   "outputs": [],
   "source": [
    "Rsquare=r2_score(Y_test,Y_pred)"
   ]
  },
  {
   "cell_type": "code",
   "execution_count": 28,
   "id": "b081128f",
   "metadata": {},
   "outputs": [
    {
     "data": {
      "text/plain": [
       "0.07556790220249643"
      ]
     },
     "execution_count": 28,
     "metadata": {},
     "output_type": "execute_result"
    }
   ],
   "source": [
    "Rsquare"
   ]
  },
  {
   "cell_type": "code",
   "execution_count": null,
   "id": "e7ed6cd8",
   "metadata": {},
   "outputs": [],
   "source": []
  }
 ],
 "metadata": {
  "kernelspec": {
   "display_name": "Python 3 (ipykernel)",
   "language": "python",
   "name": "python3"
  },
  "language_info": {
   "codemirror_mode": {
    "name": "ipython",
    "version": 3
   },
   "file_extension": ".py",
   "mimetype": "text/x-python",
   "name": "python",
   "nbconvert_exporter": "python",
   "pygments_lexer": "ipython3",
   "version": "3.10.2"
  }
 },
 "nbformat": 4,
 "nbformat_minor": 5
}
